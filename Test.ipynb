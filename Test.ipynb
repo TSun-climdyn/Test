{
 "cells": [
  {
   "cell_type": "code",
   "execution_count": 1,
   "metadata": {},
   "outputs": [],
   "source": [
    "from matplotlib import pyplot as plt\n",
    "import numpy as np\n",
    "import pandas as pd\n",
    "import xarray as xr\n",
    "\n",
    "#xr.set_options(display_style='html')\n",
    "%matplotlib inline\n",
    "%config InlineBackend.figure_format = 'retina'"
   ]
  },
  {
   "cell_type": "code",
   "execution_count": 2,
   "metadata": {},
   "outputs": [],
   "source": [
    "#!/usr/bin/env python\n",
    "from __future__ import print_function\n",
    "import requests\n",
    "import xml.etree.ElementTree as ET\n",
    "import numpy"
   ]
  },
  {
   "cell_type": "code",
   "execution_count": 3,
   "metadata": {},
   "outputs": [],
   "source": [
    "# Author: Unknown\n",
    "# I got the original version from a word document published by ESGF\n",
    "# https://docs.google.com/document/d/1pxz1Kd3JHfFp8vR2JCVBfApbsHmbUQQstifhGNdc6U0/edit?usp=sharing\n",
    "\n",
    "# API AT: https://github.com/ESGF/esgf.github.io/wiki/ESGF_Search_REST_API#results-pagination\n",
    "\n",
    "def esgf_search(server=\"https://esgf-node.llnl.gov/esg-search/search\",\n",
    "                files_type=\"OPENDAP\", local_node=True, project=\"CMIP6\",\n",
    "                verbose=False, format=\"application%2Fsolr%2Bjson\",\n",
    "                use_csrf=False, **search):\n",
    "    client = requests.session()\n",
    "    payload = search\n",
    "    payload[\"project\"] = project\n",
    "    payload[\"type\"]= \"File\"\n",
    "    if local_node:\n",
    "        payload[\"distrib\"] = \"false\"\n",
    "    if use_csrf:\n",
    "        client.get(server)\n",
    "        if 'csrftoken' in client.cookies:\n",
    "            # Django 1.6 and up\n",
    "            csrftoken = client.cookies['csrftoken']\n",
    "        else:\n",
    "            # older versions\n",
    "            csrftoken = client.cookies['csrf']\n",
    "        payload[\"csrfmiddlewaretoken\"] = csrftoken\n",
    "\n",
    "    payload[\"format\"] = format\n",
    "\n",
    "    offset = 0\n",
    "    numFound = 10000\n",
    "    all_files = []\n",
    "    files_type = files_type.upper()\n",
    "    while offset < numFound:\n",
    "        payload[\"offset\"] = offset\n",
    "        url_keys = [] \n",
    "        for k in payload:\n",
    "            url_keys += [\"{}={}\".format(k, payload[k])]\n",
    "\n",
    "        url = \"{}/?{}\".format(server, \"&\".join(url_keys))\n",
    "        print(url)\n",
    "        r = client.get(url)\n",
    "        r.raise_for_status()\n",
    "        resp = r.json()[\"response\"]\n",
    "        numFound = int(resp[\"numFound\"])\n",
    "        resp = resp[\"docs\"]\n",
    "        offset += len(resp)\n",
    "        for d in resp:\n",
    "            if verbose:\n",
    "                for k in d:\n",
    "                    print(\"{}: {}\".format(k,d[k]))\n",
    "            url = d[\"url\"]\n",
    "            for f in d[\"url\"]:\n",
    "                sp = f.split(\"|\")\n",
    "                if sp[-1] == files_type:\n",
    "                    all_files.append(sp[0].split(\".html\")[0])\n",
    "    return sorted(all_files)"
   ]
  },
  {
   "cell_type": "code",
   "execution_count": 4,
   "metadata": {},
   "outputs": [
    {
     "name": "stdout",
     "output_type": "stream",
     "text": [
      "https://esgf-node.llnl.gov/esg-search/search/?activity_id=ScenarioMIP&table_id=Amon&variable_id=tas&experiment_id=ssp585&institution_id=NCAR&source_id=CESM2&member_id=r10i1p1f1&project=CMIP6&type=File&distrib=false&format=application%2Fsolr%2Bjson&offset=0\n"
     ]
    },
    {
     "data": {
      "text/plain": [
       "['http://esgf-data.ucar.edu/thredds/dodsC/esg_dataroot/CMIP6/ScenarioMIP/NCAR/CESM2/ssp585/r10i1p1f1/Amon/tas/gn/v20200528/tas_Amon_CESM2_ssp585_r10i1p1f1_gn_201501-206412.nc',\n",
       " 'http://esgf-data.ucar.edu/thredds/dodsC/esg_dataroot/CMIP6/ScenarioMIP/NCAR/CESM2/ssp585/r10i1p1f1/Amon/tas/gn/v20200528/tas_Amon_CESM2_ssp585_r10i1p1f1_gn_206501-210012.nc',\n",
       " 'http://esgf-data3.diasjp.net/thredds/dodsC/esg_dataroot/CMIP6/ScenarioMIP/NCAR/CESM2/ssp585/r10i1p1f1/Amon/tas/gn/v20200528/tas_Amon_CESM2_ssp585_r10i1p1f1_gn_201501-206412.nc',\n",
       " 'http://esgf-data3.diasjp.net/thredds/dodsC/esg_dataroot/CMIP6/ScenarioMIP/NCAR/CESM2/ssp585/r10i1p1f1/Amon/tas/gn/v20200528/tas_Amon_CESM2_ssp585_r10i1p1f1_gn_206501-210012.nc',\n",
       " 'https://esgf-data1.llnl.gov/thredds/dodsC/css03_data/CMIP6/ScenarioMIP/NCAR/CESM2/ssp585/r10i1p1f1/Amon/tas/gn/v20200528/tas_Amon_CESM2_ssp585_r10i1p1f1_gn_201501-206412.nc',\n",
       " 'https://esgf-data1.llnl.gov/thredds/dodsC/css03_data/CMIP6/ScenarioMIP/NCAR/CESM2/ssp585/r10i1p1f1/Amon/tas/gn/v20200528/tas_Amon_CESM2_ssp585_r10i1p1f1_gn_206501-210012.nc']"
      ]
     },
     "execution_count": 4,
     "metadata": {},
     "output_type": "execute_result"
    }
   ],
   "source": [
    "result = esgf_search(activity_id='ScenarioMIP', table_id='Amon', variable_id='tas', experiment_id='ssp585', \n",
    "                     institution_id=\"NCAR\", source_id=\"CESM2\", member_id=\"r10i1p1f1\")\n",
    "result"
   ]
  },
  {
   "cell_type": "code",
   "execution_count": 5,
   "metadata": {},
   "outputs": [
    {
     "name": "stderr",
     "output_type": "stream",
     "text": [
      "C:\\Users\\tsun\\Documents\\Python3\\lib\\site-packages\\xarray\\conventions.py:394: SerializationWarning: variable 'tas' has multiple fill values {1e+20, 1e+20}, decoding all values to NaN.\n",
      "  stack_char_dim=stack_char_dim)\n"
     ]
    },
    {
     "data": {
      "text/plain": [
       "<xarray.Dataset>\n",
       "Dimensions:    (lat: 192, lon: 288, nbnd: 2, time: 1032)\n",
       "Coordinates:\n",
       "  * lat        (lat) float64 -90.0 -89.06 -88.12 -87.17 ... 88.12 89.06 90.0\n",
       "  * lon        (lon) float64 0.0 1.25 2.5 3.75 5.0 ... 355.0 356.2 357.5 358.8\n",
       "  * time       (time) object 2015-01-15 12:00:00 ... 2100-12-15 12:00:00\n",
       "Dimensions without coordinates: nbnd\n",
       "Data variables:\n",
       "    time_bnds  (time, nbnd) object dask.array<shape=(1032, 2), chunksize=(600, 2)>\n",
       "    lat_bnds   (time, lat, nbnd) float64 dask.array<shape=(1032, 192, 2), chunksize=(600, 192, 2)>\n",
       "    lon_bnds   (time, lon, nbnd) float64 dask.array<shape=(1032, 288, 2), chunksize=(600, 288, 2)>\n",
       "    tas        (time, lat, lon) float32 dask.array<shape=(1032, 192, 288), chunksize=(600, 192, 288)>\n",
       "Attributes:\n",
       "    Conventions:                     CF-1.7 CMIP-6.2\n",
       "    activity_id:                     ScenarioMIP\n",
       "    branch_method:                   standard\n",
       "    branch_time_in_child:            735110.0\n",
       "    branch_time_in_parent:           735110.0\n",
       "    case_id:                         1733\n",
       "    cesm_casename:                   b.e21.BSSP585cmip6.f09_g17.CMIP6-SSP5-8....\n",
       "    contact:                         cesm_cmip6@ucar.edu\n",
       "    creation_date:                   2020-05-27T23:32:49Z\n",
       "    data_specs_version:              01.00.31\n",
       "    experiment:                      SSP-based RCP scenario with high radiati...\n",
       "    experiment_id:                   ssp585\n",
       "    external_variables:              areacella\n",
       "    forcing_index:                   1\n",
       "    frequency:                       mon\n",
       "    further_info_url:                https://furtherinfo.es-doc.org/CMIP6.NCA...\n",
       "    grid:                            native 0.9x1.25 finite volume grid (192x...\n",
       "    grid_label:                      gn\n",
       "    initialization_index:            1\n",
       "    institution:                     National Center for Atmospheric Research...\n",
       "    institution_id:                  NCAR\n",
       "    license:                         CMIP6 model data produced by <The Nation...\n",
       "    mip_era:                         CMIP6\n",
       "    model_doi_url:                   https://doi.org/10.5065/D67H1H0V\n",
       "    nominal_resolution:              100 km\n",
       "    parent_activity_id:              CMIP\n",
       "    parent_experiment_id:            historical\n",
       "    parent_mip_era:                  CMIP6\n",
       "    parent_source_id:                CESM2\n",
       "    parent_time_units:               days since 0001-01-01 00:00:00\n",
       "    parent_variant_label:            r10i1p1f1\n",
       "    physics_index:                   1\n",
       "    product:                         model-output\n",
       "    realization_index:               10\n",
       "    realm:                           atmos\n",
       "    source:                          CESM2 (2017): atmosphere: CAM6 (0.9x1.25...\n",
       "    source_id:                       CESM2\n",
       "    source_type:                     AOGCM BGC AER\n",
       "    sub_experiment:                  none\n",
       "    sub_experiment_id:               none\n",
       "    table_id:                        Amon\n",
       "    tracking_id:                     hdl:21.14100/30b8ea3c-f03d-4e74-afd3-33e...\n",
       "    variable_id:                     tas\n",
       "    variant_info:                    CMIP6 SSP5-8.5 experiments (2015-2100) w...\n",
       "    variant_label:                   r10i1p1f1\n",
       "    DODS_EXTRA.Unlimited_Dimension:  time"
      ]
     },
     "execution_count": 5,
     "metadata": {},
     "output_type": "execute_result"
    }
   ],
   "source": [
    "# there are mulitple sources of the same data--need to pick one\n",
    "files_to_open = result[0:2]\n",
    "\n",
    "ds = xr.open_mfdataset(files_to_open, concat_dim='time')\n",
    "ds"
   ]
  },
  {
   "cell_type": "code",
   "execution_count": 6,
   "metadata": {},
   "outputs": [
    {
     "name": "stdout",
     "output_type": "stream",
     "text": [
      "https://esgf-node.llnl.gov/esg-search/search/?variable_id=areacella&activity_id=ScenarioMIP&experiment_id=ssp585&institution_id=NCAR&source_id=CESM2&project=CMIP6&type=File&distrib=false&format=application%2Fsolr%2Bjson&offset=0\n"
     ]
    },
    {
     "name": "stderr",
     "output_type": "stream",
     "text": [
      "C:\\Users\\tsun\\Documents\\Python3\\lib\\site-packages\\xarray\\conventions.py:394: SerializationWarning: variable 'areacella' has multiple fill values {1e+20, 1e+20}, decoding all values to NaN.\n",
      "  stack_char_dim=stack_char_dim)\n"
     ]
    },
    {
     "data": {
      "text/plain": [
       "<xarray.Dataset>\n",
       "Dimensions:    (lat: 192, lon: 288, nbnd: 2)\n",
       "Coordinates:\n",
       "  * lat        (lat) float64 -90.0 -89.06 -88.12 -87.17 ... 88.12 89.06 90.0\n",
       "  * lon        (lon) float64 0.0 1.25 2.5 3.75 5.0 ... 355.0 356.2 357.5 358.8\n",
       "Dimensions without coordinates: nbnd\n",
       "Data variables:\n",
       "    lat_bnds   (lat, nbnd) float64 ...\n",
       "    lon_bnds   (lon, nbnd) float64 ...\n",
       "    areacella  (lat, lon) float32 ...\n",
       "Attributes:\n",
       "    Conventions:            CF-1.7 CMIP-6.2\n",
       "    activity_id:            ScenarioMIP\n",
       "    branch_method:          standard\n",
       "    branch_time_in_child:   735110.0\n",
       "    branch_time_in_parent:  735110.0\n",
       "    case_id:                1733\n",
       "    cesm_casename:          b.e21.BSSP585cmip6.f09_g17.CMIP6-SSP5-8.5.101\n",
       "    contact:                cesm_cmip6@ucar.edu\n",
       "    creation_date:          2020-05-27T20:54:03Z\n",
       "    data_specs_version:     01.00.31\n",
       "    experiment:             SSP-based RCP scenario with high radiative forcin...\n",
       "    experiment_id:          ssp585\n",
       "    forcing_index:          1\n",
       "    frequency:              fx\n",
       "    further_info_url:       https://furtherinfo.es-doc.org/CMIP6.NCAR.CESM2.s...\n",
       "    grid:                   native 0.9x1.25 finite volume grid (192x288 latxlon)\n",
       "    grid_label:             gn\n",
       "    initialization_index:   1\n",
       "    institution:            National Center for Atmospheric Research, Climate...\n",
       "    institution_id:         NCAR\n",
       "    license:                CMIP6 model data produced by <The National Center...\n",
       "    mip_era:                CMIP6\n",
       "    model_doi_url:          https://doi.org/10.5065/D67H1H0V\n",
       "    nominal_resolution:     100 km\n",
       "    parent_activity_id:     CMIP\n",
       "    parent_experiment_id:   historical\n",
       "    parent_mip_era:         CMIP6\n",
       "    parent_source_id:       CESM2\n",
       "    parent_time_units:      days since 0001-01-01 00:00:00\n",
       "    parent_variant_label:   r10i1p1f1\n",
       "    physics_index:          1\n",
       "    product:                model-output\n",
       "    realization_index:      10\n",
       "    realm:                  atmos land\n",
       "    source:                 CESM2 (2017): atmosphere: CAM6 (0.9x1.25 finite v...\n",
       "    source_id:              CESM2\n",
       "    source_type:            AOGCM BGC AER\n",
       "    sub_experiment:         none\n",
       "    sub_experiment_id:      none\n",
       "    table_id:               fx\n",
       "    tracking_id:            hdl:21.14100/13704d72-b30b-4582-8b07-b5ae0857786f\n",
       "    variable_id:            areacella\n",
       "    variant_info:           CMIP6 SSP5-8.5 experiments (2015-2100) with CAM6,...\n",
       "    variant_label:          r10i1p1f1"
      ]
     },
     "execution_count": 6,
     "metadata": {},
     "output_type": "execute_result"
    }
   ],
   "source": [
    "files_area = esgf_search(variable_id='areacella', activity_id='ScenarioMIP',\n",
    "                         experiment_id='ssp585', institution_id=\"NCAR\", source_id=\"CESM2\")\n",
    "ds_area = xr.open_dataset(files_area[0])\n",
    "ds_area"
   ]
  },
  {
   "cell_type": "code",
   "execution_count": 17,
   "metadata": {},
   "outputs": [
    {
     "data": {
      "text/plain": [
       "<xarray.DataArray (time: 1032)>\n",
       "dask.array<shape=(1032,), dtype=float32, chunksize=(600,)>\n",
       "Coordinates:\n",
       "  * time     (time) object 2015-01-15 12:00:00 ... 2100-12-15 12:00:00"
      ]
     },
     "execution_count": 17,
     "metadata": {},
     "output_type": "execute_result"
    }
   ],
   "source": [
    "total_area = ds_area.areacella.sum(dim=['lon', 'lat'])\n",
    "ta_timeseries = (ds.tas * ds_area.areacella).sum(dim=['lon', 'lat']) / total_area\n",
    "ta_timeseries"
   ]
  },
  {
   "cell_type": "code",
   "execution_count": 21,
   "metadata": {},
   "outputs": [],
   "source": [
    "import nc_time_axis\n",
    "import cftime"
   ]
  },
  {
   "cell_type": "code",
   "execution_count": 25,
   "metadata": {},
   "outputs": [
    {
     "ename": "TypeError",
     "evalue": "__init__() takes at least 3 positional arguments (1 given)",
     "output_type": "error",
     "traceback": [
      "\u001b[1;31m---------------------------------------------------------------------------\u001b[0m",
      "\u001b[1;31mTypeError\u001b[0m                                 Traceback (most recent call last)",
      "\u001b[1;32m<ipython-input-25-51e0343ff472>\u001b[0m in \u001b[0;36m<module>\u001b[1;34m\u001b[0m\n\u001b[0;32m      1\u001b[0m \u001b[1;32mimport\u001b[0m \u001b[0mrandom\u001b[0m\u001b[1;33m\u001b[0m\u001b[1;33m\u001b[0m\u001b[0m\n\u001b[1;32m----> 2\u001b[1;33m \u001b[0md_time\u001b[0m \u001b[1;33m=\u001b[0m \u001b[0mcftime\u001b[0m\u001b[1;33m.\u001b[0m\u001b[0mDatetime360Day\u001b[0m\u001b[1;33m(\u001b[0m\u001b[0mta_timeseries\u001b[0m\u001b[1;33m,\u001b[0m \u001b[0mcalendar\u001b[0m\u001b[1;33m=\u001b[0m\u001b[1;34m'noleap'\u001b[0m\u001b[1;33m)\u001b[0m\u001b[1;33m\u001b[0m\u001b[1;33m\u001b[0m\u001b[0m\n\u001b[0m\u001b[0;32m      3\u001b[0m \u001b[0mtemperatures\u001b[0m \u001b[1;33m=\u001b[0m \u001b[0mta_timeseries\u001b[0m\u001b[1;33m\u001b[0m\u001b[1;33m\u001b[0m\u001b[0m\n\u001b[0;32m      4\u001b[0m \u001b[1;33m\u001b[0m\u001b[0m\n\u001b[0;32m      5\u001b[0m \u001b[0mplt\u001b[0m\u001b[1;33m.\u001b[0m\u001b[0mplot\u001b[0m\u001b[1;33m(\u001b[0m\u001b[0md_time\u001b[0m\u001b[1;33m,\u001b[0m \u001b[0mtemperatures\u001b[0m\u001b[1;33m)\u001b[0m\u001b[1;33m\u001b[0m\u001b[1;33m\u001b[0m\u001b[0m\n",
      "\u001b[1;32mcftime\\_cftime.pyx\u001b[0m in \u001b[0;36mcftime._cftime.Datetime360Day.__init__\u001b[1;34m()\u001b[0m\n",
      "\u001b[1;32mcftime\\_cftime.pyx\u001b[0m in \u001b[0;36mcftime._cftime.datetime.__init__\u001b[1;34m()\u001b[0m\n",
      "\u001b[1;31mTypeError\u001b[0m: __init__() takes at least 3 positional arguments (1 given)"
     ]
    }
   ],
   "source": [
    "import random\n",
    "d_time = [cftime.Datetime360Day(year=2017, month=2, day=n) for n in range(1, 31)]\n",
    "temperatures = [round(random.uniform(0, 12), 3) for _ in range(len(d_time))]\n",
    "\n",
    "plt.plot(d_time, temperatures)\n",
    "plt.margins(0.1)\n",
    "plt.ylim(0, 12)\n",
    "plt.xlabel(\"Date\")\n",
    "plt.ylabel(\"Temperature\")\n",
    "plt.show()"
   ]
  },
  {
   "cell_type": "code",
   "execution_count": null,
   "metadata": {},
   "outputs": [],
   "source": []
  }
 ],
 "metadata": {
  "kernelspec": {
   "display_name": "Python 3",
   "language": "python",
   "name": "python3"
  },
  "language_info": {
   "codemirror_mode": {
    "name": "ipython",
    "version": 3
   },
   "file_extension": ".py",
   "mimetype": "text/x-python",
   "name": "python",
   "nbconvert_exporter": "python",
   "pygments_lexer": "ipython3",
   "version": "3.7.3"
  }
 },
 "nbformat": 4,
 "nbformat_minor": 2
}
